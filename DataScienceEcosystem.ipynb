{
 "cells": [
  {
   "cell_type": "markdown",
   "id": "66bca8bb-04b5-497c-a1b0-06dccf0dadd7",
   "metadata": {},
   "source": [
    "<h1> Data Science Tools and Ecosystem </h1>"
   ]
  },
  {
   "cell_type": "markdown",
   "id": "6f0cacee-f2a9-4471-9538-c7e14de0122f",
   "metadata": {},
   "source": [
    "In this notebook, Data Science Tools and Ecosystem are summarized."
   ]
  },
  {
   "cell_type": "markdown",
   "id": "203d01d2-49b1-47b1-b474-af6c7370b203",
   "metadata": {},
   "source": [
    "**Objectives:**\n",
    "- List popular languages for Data Science\n",
    "- List commonly used libraries for Data Science\n",
    "- List popular data science tools\n",
    "- Show some examples of evaluating arithmetic expressions in Python"
   ]
  },
  {
   "cell_type": "markdown",
   "id": "6e07fa0e-c9ee-4464-94e8-7dc935ad45ce",
   "metadata": {},
   "source": [
    "Some of the popular languages that Data Scientists use are:\n",
    "\n",
    "1. Python\n",
    "2. SQL\n",
    "3. VBA\n",
    "4. R"
   ]
  },
  {
   "cell_type": "markdown",
   "id": "0342f51f-c294-4c3c-9976-a727a2ee6a70",
   "metadata": {},
   "source": [
    "Some of the commonly used libraries used by Data Scientists include:\n",
    "\n",
    "1. NumPy\n",
    "2. Pandas\n",
    "3. Matplotlib\n",
    "4. SciPy"
   ]
  },
  {
   "cell_type": "markdown",
   "id": "6cfa5be6-e7d2-4006-a24f-081057c6c6ef",
   "metadata": {},
   "source": [
    "|Data Science Tools|\n",
    "|------------------|\n",
    "|Jupyter Notebook|\n",
    "|Jupyter Lab|\n",
    "|Apache Spark|"
   ]
  },
  {
   "cell_type": "markdown",
   "id": "7d5d0a1e-9c45-4e81-8b30-5997aee57f48",
   "metadata": {},
   "source": [
    "<h3> Below are a few examples of evaluating arithmetic expressions in Python </h3>"
   ]
  },
  {
   "cell_type": "code",
   "execution_count": 10,
   "id": "3a11bf61-ce5b-42e3-9d1c-49a574448816",
   "metadata": {},
   "outputs": [
    {
     "name": "stdout",
     "output_type": "stream",
     "text": [
      "17\n"
     ]
    }
   ],
   "source": [
    "# This a simple arithmetic expression to mutiply then add integers\n",
    "q8 = (3*4)+5\n",
    "print (q8)"
   ]
  },
  {
   "cell_type": "code",
   "execution_count": 12,
   "id": "28c4d243-edca-47aa-a39d-2c45494216d0",
   "metadata": {},
   "outputs": [
    {
     "name": "stdout",
     "output_type": "stream",
     "text": [
      "3.3333333333333335\n"
     ]
    }
   ],
   "source": [
    "# This will convert 200 minutes to hours by diving by 60\n",
    "min = 200\n",
    "hour = min/60\n",
    "print(hour)\n"
   ]
  },
  {
   "cell_type": "markdown",
   "id": "5239dd5b-3064-4732-9307-f04d02f66bc8",
   "metadata": {},
   "source": [
    "<h2> Author </h2>\n",
    "Jasmine"
   ]
  }
 ],
 "metadata": {
  "kernelspec": {
   "display_name": "Python 3 (ipykernel)",
   "language": "python",
   "name": "python3"
  },
  "language_info": {
   "codemirror_mode": {
    "name": "ipython",
    "version": 3
   },
   "file_extension": ".py",
   "mimetype": "text/x-python",
   "name": "python",
   "nbconvert_exporter": "python",
   "pygments_lexer": "ipython3",
   "version": "3.12.4"
  }
 },
 "nbformat": 4,
 "nbformat_minor": 5
}
